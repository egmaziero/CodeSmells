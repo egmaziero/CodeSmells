{
 "cells": [
  {
   "cell_type": "markdown",
   "metadata": {},
   "source": [
    "# WordEmbeddings\n",
    "In this notebook we'll create a word embedding (using Gensim) representation of a corpus of texts in English. Also, we'll visualize the representation using T-SNE"
   ]
  },
  {
   "cell_type": "markdown",
   "metadata": {},
   "source": [
    "### read data"
   ]
  },
  {
   "cell_type": "code",
   "execution_count": 2,
   "metadata": {},
   "outputs": [],
   "source": [
    "files = ['sentences_apps.txt', 'sentences_imdb.txt']\n",
    "corpus = []\n",
    "\n",
    "for file in files:\n",
    "    with open('../data/'+file, 'r') as text_file:\n",
    "        sentences = text_file.readlines()\n",
    "        for sentence in sentences:\n",
    "            corpus.append(sentence)"
   ]
  },
  {
   "cell_type": "code",
   "execution_count": 3,
   "metadata": {},
   "outputs": [
    {
     "data": {
      "text/plain": [
       "567239"
      ]
     },
     "execution_count": 3,
     "metadata": {},
     "output_type": "execute_result"
    }
   ],
   "source": [
    "len(corpus)"
   ]
  },
  {
   "cell_type": "markdown",
   "metadata": {},
   "source": [
    "### pre-process corpus"
   ]
  },
  {
   "cell_type": "code",
   "execution_count": 7,
   "metadata": {},
   "outputs": [],
   "source": [
    "import re\n",
    "REPLACE_NO_SPACE = re.compile(\"(\\.)|(\\;)|(\\:)|(\\!)|(\\')|(\\?)|(\\,)|(\\\")|(\\()|(\\))|(\\[)|(\\])\")\n",
    "REPLACE_WITH_SPACE = re.compile(\"(<br\\s*/><br\\s*/>)|(\\-)|(\\/)\")\n",
    "\n",
    "def preprocess_texts(text):\n",
    "    text = REPLACE_NO_SPACE.sub(\"\", text.lower())\n",
    "    text = REPLACE_WITH_SPACE.sub(\" \", text)\n",
    "    \n",
    "    return text.split()"
   ]
  },
  {
   "cell_type": "code",
   "execution_count": 8,
   "metadata": {},
   "outputs": [],
   "source": [
    "from multiprocessing import Pool\n",
    "from math import floor\n",
    "\n",
    "agents = 4\n",
    "chunksize = floor(len(corpus)/4)\n",
    "with Pool(processes=agents) as pool:\n",
    "    processed_corpus = pool.map(preprocess_texts, corpus, chunksize)"
   ]
  },
  {
   "cell_type": "code",
   "execution_count": 9,
   "metadata": {},
   "outputs": [
    {
     "name": "stdout",
     "output_type": "stream",
     "text": [
      "[['seems', 'to', 'be', 'a', 'bug', 'that', 'i', 'cant', 'get', 'notifications', 'to', 'be', 'silent'], ['i', 'set', 'vibrate', 'to', 'off', 'and', 'it', 'worked', 'at', 'first', 'but', 'then', 'starts', 'vibrating', 'again']]\n"
     ]
    }
   ],
   "source": [
    "print(processed_corpus[0:2])"
   ]
  },
  {
   "cell_type": "markdown",
   "metadata": {},
   "source": [
    "# Creating Word2Vec\n",
    "See other parameters at https://radimrehurek.com/gensim/models/word2vec.html#gensim.models.word2vec.Word2Vec"
   ]
  },
  {
   "cell_type": "code",
   "execution_count": 10,
   "metadata": {},
   "outputs": [],
   "source": [
    "from gensim.models import Word2Vec\n",
    "w2vmodel = Word2Vec(sentences=processed_corpus,\n",
    "                    size=500,\n",
    "                    min_count=5,\n",
    "                    workers=4)"
   ]
  },
  {
   "cell_type": "code",
   "execution_count": 20,
   "metadata": {},
   "outputs": [
    {
     "data": {
      "text/plain": [
       "[('fine', 0.3778226673603058),\n",
       " ('decent', 0.3380492627620697),\n",
       " ('solid', 0.3289002478122711),\n",
       " ('nice', 0.3207089304924011),\n",
       " ('great', 0.3023111820220947),\n",
       " ('genuine', 0.3017728924751282),\n",
       " ('terrific', 0.28680741786956787),\n",
       " ('strong', 0.2833295464515686),\n",
       " ('excellent', 0.2818334102630615),\n",
       " ('fresh', 0.27687108516693115)]"
      ]
     },
     "execution_count": 20,
     "metadata": {},
     "output_type": "execute_result"
    }
   ],
   "source": [
    "w2vmodel.wv.most_similar(positive=['good'], negative=['bad'])"
   ]
  },
  {
   "cell_type": "code",
   "execution_count": 14,
   "metadata": {},
   "outputs": [],
   "source": [
    "w2vmodel.save('word2vec_IMDb_GooglePlay.w2v')"
   ]
  },
  {
   "cell_type": "markdown",
   "metadata": {},
   "source": [
    "# Visualizing "
   ]
  },
  {
   "cell_type": "code",
   "execution_count": 21,
   "metadata": {},
   "outputs": [],
   "source": [
    "from sklearn.manifold import TSNE\n",
    "import pandas as pd\n",
    "import matplotlib.pyplot as plt\n",
    "import matplotlib\n",
    "%matplotlib inline  "
   ]
  },
  {
   "cell_type": "markdown",
   "metadata": {},
   "source": [
    "### get infos from w2v model"
   ]
  },
  {
   "cell_type": "code",
   "execution_count": 22,
   "metadata": {},
   "outputs": [
    {
     "name": "stderr",
     "output_type": "stream",
     "text": [
      "/home/professor/.virtualenvs/GrupoEstudos_env/lib/python3.6/site-packages/ipykernel_launcher.py:2: DeprecationWarning: Call to deprecated `__getitem__` (Method will be removed in 4.0.0, use self.wv.__getitem__() instead).\n",
      "  \n"
     ]
    }
   ],
   "source": [
    "vocab = list(w2vmodel.wv.vocab)\n",
    "X = w2vmodel[vocab]"
   ]
  },
  {
   "cell_type": "markdown",
   "metadata": {},
   "source": [
    "### project n-dimensional into 2-dimensional space using T-SNE"
   ]
  },
  {
   "cell_type": "code",
   "execution_count": 23,
   "metadata": {},
   "outputs": [
    {
     "name": "stdout",
     "output_type": "stream",
     "text": [
      "[t-SNE] Computing 91 nearest neighbors...\n",
      "[t-SNE] Indexed 42272 samples in 1.785s...\n",
      "[t-SNE] Computed neighbors for 42272 samples in 1424.939s...\n",
      "[t-SNE] Computed conditional probabilities for sample 1000 / 42272\n",
      "[t-SNE] Computed conditional probabilities for sample 2000 / 42272\n",
      "[t-SNE] Computed conditional probabilities for sample 3000 / 42272\n",
      "[t-SNE] Computed conditional probabilities for sample 4000 / 42272\n",
      "[t-SNE] Computed conditional probabilities for sample 5000 / 42272\n",
      "[t-SNE] Computed conditional probabilities for sample 6000 / 42272\n",
      "[t-SNE] Computed conditional probabilities for sample 7000 / 42272\n",
      "[t-SNE] Computed conditional probabilities for sample 8000 / 42272\n",
      "[t-SNE] Computed conditional probabilities for sample 9000 / 42272\n",
      "[t-SNE] Computed conditional probabilities for sample 10000 / 42272\n",
      "[t-SNE] Computed conditional probabilities for sample 11000 / 42272\n",
      "[t-SNE] Computed conditional probabilities for sample 12000 / 42272\n",
      "[t-SNE] Computed conditional probabilities for sample 13000 / 42272\n",
      "[t-SNE] Computed conditional probabilities for sample 14000 / 42272\n",
      "[t-SNE] Computed conditional probabilities for sample 15000 / 42272\n",
      "[t-SNE] Computed conditional probabilities for sample 16000 / 42272\n",
      "[t-SNE] Computed conditional probabilities for sample 17000 / 42272\n",
      "[t-SNE] Computed conditional probabilities for sample 18000 / 42272\n",
      "[t-SNE] Computed conditional probabilities for sample 19000 / 42272\n",
      "[t-SNE] Computed conditional probabilities for sample 20000 / 42272\n",
      "[t-SNE] Computed conditional probabilities for sample 21000 / 42272\n",
      "[t-SNE] Computed conditional probabilities for sample 22000 / 42272\n",
      "[t-SNE] Computed conditional probabilities for sample 23000 / 42272\n",
      "[t-SNE] Computed conditional probabilities for sample 24000 / 42272\n",
      "[t-SNE] Computed conditional probabilities for sample 25000 / 42272\n",
      "[t-SNE] Computed conditional probabilities for sample 26000 / 42272\n",
      "[t-SNE] Computed conditional probabilities for sample 27000 / 42272\n",
      "[t-SNE] Computed conditional probabilities for sample 28000 / 42272\n",
      "[t-SNE] Computed conditional probabilities for sample 29000 / 42272\n",
      "[t-SNE] Computed conditional probabilities for sample 30000 / 42272\n",
      "[t-SNE] Computed conditional probabilities for sample 31000 / 42272\n",
      "[t-SNE] Computed conditional probabilities for sample 32000 / 42272\n",
      "[t-SNE] Computed conditional probabilities for sample 33000 / 42272\n",
      "[t-SNE] Computed conditional probabilities for sample 34000 / 42272\n",
      "[t-SNE] Computed conditional probabilities for sample 35000 / 42272\n",
      "[t-SNE] Computed conditional probabilities for sample 36000 / 42272\n",
      "[t-SNE] Computed conditional probabilities for sample 37000 / 42272\n",
      "[t-SNE] Computed conditional probabilities for sample 38000 / 42272\n",
      "[t-SNE] Computed conditional probabilities for sample 39000 / 42272\n",
      "[t-SNE] Computed conditional probabilities for sample 40000 / 42272\n",
      "[t-SNE] Computed conditional probabilities for sample 41000 / 42272\n",
      "[t-SNE] Computed conditional probabilities for sample 42000 / 42272\n",
      "[t-SNE] Computed conditional probabilities for sample 42272 / 42272\n",
      "[t-SNE] Mean sigma: 0.162430\n",
      "[t-SNE] KL divergence after 250 iterations with early exaggeration: 106.274734\n",
      "[t-SNE] Error after 1000 iterations: 4.270360\n"
     ]
    }
   ],
   "source": [
    "tsne = TSNE(n_components=2, verbose=1, n_iter=1000)\n",
    "X_tsne = tsne.fit_transform(X)"
   ]
  },
  {
   "cell_type": "markdown",
   "metadata": {},
   "source": [
    "### create a dataframe and plot"
   ]
  },
  {
   "cell_type": "code",
   "execution_count": 24,
   "metadata": {},
   "outputs": [],
   "source": [
    "df = pd.DataFrame(X_tsne, index=vocab, columns=['x', 'y'])"
   ]
  },
  {
   "cell_type": "code",
   "execution_count": 25,
   "metadata": {},
   "outputs": [
    {
     "data": {
      "text/plain": [
       "<matplotlib.collections.PathCollection at 0x7f9d61824470>"
      ]
     },
     "execution_count": 25,
     "metadata": {},
     "output_type": "execute_result"
    },
    {
     "data": {
      "image/png": "[encoded data removed]",
      "text/plain": [
       "<Figure size 432x288 with 1 Axes>"
      ]
     },
     "metadata": {
      "needs_background": "light"
     },
     "output_type": "display_data"
    }
   ],
   "source": [
    "fig = plt.figure()\n",
    "ax = fig.add_subplot(1, 1, 1)\n",
    "\n",
    "ax.scatter(df['x'], df['y'])"
   ]
  },
  {
   "cell_type": "code",
   "execution_count": 26,
   "metadata": {},
   "outputs": [],
   "source": [
    "for word, pos in df.iterrows():\n",
    "    ax.annotate(word, pos)"
   ]
  },
  {
   "cell_type": "code",
   "execution_count": null,
   "metadata": {},
   "outputs": [],
   "source": []
  }
 ],
 "metadata": {
  "kernelspec": {
   "display_name": "Python 3",
   "language": "python",
   "name": "python3"
  },
  "language_info": {
   "codemirror_mode": {
    "name": "ipython",
    "version": 3
   },
   "file_extension": ".py",
   "mimetype": "text/x-python",
   "name": "python",
   "nbconvert_exporter": "python",
   "pygments_lexer": "ipython3",
   "version": "3.7.0"
  }
 },
 "nbformat": 4,
 "nbformat_minor": 2
}
